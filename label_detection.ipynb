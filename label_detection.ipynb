{
  "nbformat": 4,
  "nbformat_minor": 0,
  "metadata": {
    "colab": {
      "private_outputs": true,
      "provenance": [],
      "gpuType": "T4",
      "authorship_tag": "ABX9TyNMLt6dbWClTctFcLVLspIT",
      "include_colab_link": true
    },
    "kernelspec": {
      "name": "python3",
      "display_name": "Python 3"
    },
    "language_info": {
      "name": "python"
    },
    "accelerator": "GPU"
  },
  "cells": [
    {
      "cell_type": "markdown",
      "metadata": {
        "id": "view-in-github",
        "colab_type": "text"
      },
      "source": [
        "<a href=\"https://colab.research.google.com/github/chaimahaffar/Real-Time-Label-Detection-and-Information-Extraction/blob/main/label_detection.ipynb\" target=\"_parent\"><img src=\"https://colab.research.google.com/assets/colab-badge.svg\" alt=\"Open In Colab\"/></a>"
      ]
    },
    {
      "cell_type": "code",
      "execution_count": null,
      "metadata": {
        "id": "wmCDGrG2JSLi"
      },
      "outputs": [],
      "source": [
        "!nvidia-smi"
      ]
    },
    {
      "cell_type": "code",
      "source": [
        "import os\n",
        "HOME = os.getcwd()\n",
        "print(HOME)"
      ],
      "metadata": {
        "id": "Tg-FpJA3JXiK"
      },
      "execution_count": null,
      "outputs": []
    },
    {
      "cell_type": "markdown",
      "source": [],
      "metadata": {
        "id": "xLOwEAT6rV3I"
      }
    },
    {
      "cell_type": "code",
      "source": [
        "!pip install -q supervision"
      ],
      "metadata": {
        "id": "-k1OfUYSJl58"
      },
      "execution_count": null,
      "outputs": []
    },
    {
      "cell_type": "code",
      "source": [
        "!pip install -q git+https://github.com/THU-MIG/yolov10.git"
      ],
      "metadata": {
        "id": "dQcRoabPJqhE"
      },
      "execution_count": null,
      "outputs": []
    },
    {
      "cell_type": "markdown",
      "source": [
        "# Download pre-trained weights"
      ],
      "metadata": {
        "id": "xBIu5ignJ2S6"
      }
    },
    {
      "cell_type": "code",
      "source": [
        "!mkdir -p {HOME}/weights\n",
        "!wget -P {HOME}/weights -q https://github.com/jameslahm/yolov10/releases/download/v1.0/yolov10n.pt\n",
        "!wget -P {HOME}/weights -q https://github.com/jameslahm/yolov10/releases/download/v1.0/yolov10s.pt\n",
        "!wget -P {HOME}/weights -q https://github.com/jameslahm/yolov10/releases/download/v1.0/yolov10m.pt\n",
        "!wget -P {HOME}/weights -q https://github.com/jameslahm/yolov10/releases/download/v1.0/yolov10b.pt\n",
        "!wget -P {HOME}/weights -q https://github.com/jameslahm/yolov10/releases/download/v1.0/yolov10x.pt\n",
        "!wget -P {HOME}/weights -q https://github.com/jameslahm/yolov10/releases/download/v1.0/yolov10l.pt\n",
        "!ls -lh {HOME}/weights"
      ],
      "metadata": {
        "id": "wYaxOSp7Jyll"
      },
      "execution_count": null,
      "outputs": []
    },
    {
      "cell_type": "code",
      "source": [
        "%cd {HOME}\n",
        "!yolo task=detect mode=predict conf=0.25 save=True model={HOME}/weights/yolov10s.pt source=/content/img.png"
      ],
      "metadata": {
        "id": "noBfqE3Butuq"
      },
      "execution_count": null,
      "outputs": []
    },
    {
      "cell_type": "markdown",
      "source": [
        "\\\\# Download dataset from Roboflow Universe"
      ],
      "metadata": {
        "id": "Fcy5rNf1KFKE"
      }
    },
    {
      "cell_type": "code",
      "source": [
        "import ultralytics\n",
        "from roboflow import Roboflow\n",
        "from ultralytics import YOLO\n",
        "from IPython.display import Image"
      ],
      "metadata": {
        "id": "P_Eolfa6vB1t"
      },
      "execution_count": null,
      "outputs": []
    },
    {
      "cell_type": "code",
      "source": [
        "!pip install roboflow\n",
        "\n",
        "from roboflow import Roboflow\n",
        "rf = Roboflow(api_key=\"4ZwmUSHZaaCeiB9cNWAy\")\n",
        "project = rf.workspace(\"kkkkkkkkkkkkkkkk-txiet\").project(\"industrial-labels\")\n",
        "version = project.version(4)\n",
        "dataset = version.download(\"yolov8\")\n"
      ],
      "metadata": {
        "id": "zadC-LjJJ5zk"
      },
      "execution_count": null,
      "outputs": []
    },
    {
      "cell_type": "code",
      "source": [
        "%cd {HOME}\n",
        "\n",
        "!yolo task=detect mode=train epochs=50 batch=16 plots=True \\\n",
        "model={HOME}/weights/yolov10n.pt \\\n",
        "data={dataset.location}/data.yaml"
      ],
      "metadata": {
        "id": "3eoB8hdcKhCz"
      },
      "execution_count": null,
      "outputs": []
    },
    {
      "cell_type": "code",
      "source": [
        "!yolo task=detect mode=val model=data=/content/Leaf-Detection-5/data.yaml\n"
      ],
      "metadata": {
        "id": "9lrWdHqTqIe2"
      },
      "execution_count": null,
      "outputs": []
    },
    {
      "cell_type": "code",
      "source": [
        "!yolo task=detect mode=val model=/content/best.pt data=/content/-industrial-labels--4/data.yaml plots=True\n"
      ],
      "metadata": {
        "id": "1etukhvL97jE"
      },
      "execution_count": null,
      "outputs": []
    },
    {
      "cell_type": "code",
      "source": [],
      "metadata": {
        "id": "9jJRxEEc-rE-"
      },
      "execution_count": null,
      "outputs": []
    }
  ]
}