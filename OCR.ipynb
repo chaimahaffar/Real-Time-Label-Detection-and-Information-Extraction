{
  "nbformat": 4,
  "nbformat_minor": 0,
  "metadata": {
    "colab": {
      "private_outputs": true,
      "provenance": [],
      "authorship_tag": "ABX9TyMicKNCTixfFYgzAXq0qh1A",
      "include_colab_link": true
    },
    "kernelspec": {
      "name": "python3",
      "display_name": "Python 3"
    },
    "language_info": {
      "name": "python"
    }
  },
  "cells": [
    {
      "cell_type": "markdown",
      "metadata": {
        "id": "view-in-github",
        "colab_type": "text"
      },
      "source": [
        "<a href=\"https://colab.research.google.com/github/chaimahaffar/Real-Time-Label-Detection-and-Information-Extraction/blob/main/OCR.ipynb\" target=\"_parent\"><img src=\"https://colab.research.google.com/assets/colab-badge.svg\" alt=\"Open In Colab\"/></a>"
      ]
    },
    {
      "cell_type": "code",
      "source": [
        "import easyocr\n",
        "import cv2\n",
        "from matplotlib import pyplot as plt\n",
        "import numpy as np"
      ],
      "metadata": {
        "id": "G28pgr0KoiAN"
      },
      "execution_count": null,
      "outputs": []
    },
    {
      "cell_type": "code",
      "source": [
        "pip install easyocr"
      ],
      "metadata": {
        "id": "qN9PsiqDPz-z"
      },
      "execution_count": null,
      "outputs": []
    },
    {
      "cell_type": "markdown",
      "source": [],
      "metadata": {
        "id": "CuyEeGZ_Pzqi"
      }
    },
    {
      "cell_type": "code",
      "source": [
        "def process_image_and_extract_text(image_path):\n",
        "    reader = easyocr.Reader(['en'], gpu=True)\n",
        "    result = reader.readtext(image_path)\n",
        "\n",
        "    img = cv2.imread(image_path)\n",
        "    font = cv2.FONT_HERSHEY_SIMPLEX\n",
        "    spacer = 100\n",
        "\n",
        "    # Liste pour stocker les textes détectés\n",
        "    detected_texts = []\n",
        "\n",
        "    for detection in result:\n",
        "        top_left = tuple(map(int, detection[0][0]))\n",
        "        bottom_right = tuple(map(int, detection[0][2]))\n",
        "        text = detection[1]\n",
        "\n",
        "        # Ajouter le texte détecté à la liste\n",
        "        detected_texts.append(text)\n",
        "\n",
        "        if len(top_left) == 2 and len(bottom_right) == 2:\n",
        "            img = cv2.rectangle(img, top_left, bottom_right, (0, 255, 0), 3)\n",
        "            img = cv2.putText(img, text, (20, spacer), font, 0.5, (0, 255, 0), 2, cv2.LINE_AA)\n",
        "            spacer += 30  # Espacement supplémentaire pour retourner à la ligne\n",
        "\n",
        "    # Convertir l'image BGR en RGB pour matplotlib\n",
        "    plt.imshow(cv2.cvtColor(img, cv2.COLOR_BGR2RGB))\n",
        "    plt.axis('off')\n",
        "    plt.show()\n",
        "\n",
        "    # Concaténer tous les textes détectés en une seule chaîne de caractères avec retour à la ligne\n",
        "    all_detected_text = \"\\n\".join(detected_texts)\n",
        "    return img, all_detected_text\n",
        "\n",
        "\n",
        "# Exemple d'utilisation de la fonction\n",
        "IMAGE_PATH = '/content/image (11).png'\n",
        "processed_image, extracted_texts = process_image_and_extract_text(IMAGE_PATH)\n"
      ],
      "metadata": {
        "id": "5-Fs4XjaSnhE"
      },
      "execution_count": null,
      "outputs": []
    },
    {
      "cell_type": "markdown",
      "source": [
        "**Date de fabrication **"
      ],
      "metadata": {
        "id": "3UfpKN21u8Y2"
      }
    },
    {
      "cell_type": "markdown",
      "source": [],
      "metadata": {
        "id": "3sz1ODQLVBtv"
      }
    },
    {
      "cell_type": "code",
      "source": [],
      "metadata": {
        "id": "tTMdZUmKENhd"
      },
      "execution_count": null,
      "outputs": []
    },
    {
      "cell_type": "markdown",
      "source": [],
      "metadata": {
        "id": "mP8CH3P8VrFO"
      }
    }
  ]
}